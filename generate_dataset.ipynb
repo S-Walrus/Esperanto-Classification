{
 "cells": [
  {
   "cell_type": "code",
   "execution_count": 1,
   "metadata": {},
   "outputs": [],
   "source": [
    "with open('SimpleQuestions_v2/SimpleQuestions_v2/annotated_fb_data_test.txt') as f:\n",
    "    test = f.read()\n",
    "\n",
    "with open('SimpleQuestions_v2/SimpleQuestions_v2/annotated_fb_data_train.txt') as f:\n",
    "    train = f.read()\n",
    "\n",
    "with open('SimpleQuestions_v2/SimpleQuestions_v2/annotated_fb_data_valid.txt') as f:\n",
    "    valid = f.read()"
   ]
  },
  {
   "cell_type": "code",
   "execution_count": 12,
   "metadata": {},
   "outputs": [],
   "source": [
    "valid_dict = [(item.split('\\t')[3].lower().strip().strip('?'), item.split('\\t')[1]) for item in valid.split('\\n') if item != '']\n",
    "train_dict = [(item.split('\\t')[3].lower().strip().strip('?'), item.split('\\t')[1]) for item in train.split('\\n') if item != '']\n",
    "test_dict = [(item.split('\\t')[3].lower().strip().strip('?'), item.split('\\t')[1]) for item in test.split('\\n') if item != '']"
   ]
  },
  {
   "cell_type": "code",
   "execution_count": 13,
   "metadata": {},
   "outputs": [],
   "source": [
    "import json\n",
    "text = json.dumps({'valid': valid_dict, 'train': train_dict, 'test': test_dict})"
   ]
  },
  {
   "cell_type": "code",
   "execution_count": 14,
   "metadata": {},
   "outputs": [],
   "source": [
    "with open('data.json', 'w') as f:\n",
    "    f.write(text)"
   ]
  }
 ],
 "metadata": {
  "kernelspec": {
   "display_name": "Python 3",
   "language": "python",
   "name": "python3"
  },
  "language_info": {
   "codemirror_mode": {
    "name": "ipython",
    "version": 3
   },
   "file_extension": ".py",
   "mimetype": "text/x-python",
   "name": "python",
   "nbconvert_exporter": "python",
   "pygments_lexer": "ipython3",
   "version": "3.6.7"
  }
 },
 "nbformat": 4,
 "nbformat_minor": 2
}
