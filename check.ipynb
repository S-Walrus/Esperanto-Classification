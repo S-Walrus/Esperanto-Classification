{
 "cells": [
  {
   "cell_type": "code",
   "execution_count": 10,
   "metadata": {},
   "outputs": [],
   "source": [
    "import json"
   ]
  },
  {
   "cell_type": "code",
   "execution_count": 11,
   "metadata": {},
   "outputs": [],
   "source": [
    "with open('data.json') as f:\n",
    "    data_en = json.load(f)\n",
    "with open('data_es.json') as f:\n",
    "    data_es = json.load(f)"
   ]
  },
  {
   "cell_type": "code",
   "execution_count": null,
   "metadata": {},
   "outputs": [],
   "source": []
  },
  {
   "cell_type": "code",
   "execution_count": 12,
   "metadata": {},
   "outputs": [
    {
     "name": "stdout",
     "output_type": "stream",
     "text": [
      "Tests completed on key valid\n",
      "Tests completed on key train\n",
      "Tests completed on key test\n"
     ]
    }
   ],
   "source": [
    "names = data_en.keys()\n",
    "for key in names:\n",
    "    size = len(data_en)\n",
    "    i = 0\n",
    "    while i != size and data_en[key][i][1] == data_es[key][i][1]:\n",
    "        i += 1\n",
    "    if i == size:\n",
    "        print(\"Tests completed on key \" + key)\n",
    "    else:\n",
    "        print(\"Mischeck on key \" + key)"
   ]
  },
  {
   "cell_type": "code",
   "execution_count": 13,
   "metadata": {},
   "outputs": [
    {
     "name": "stdout",
     "output_type": "stream",
     "text": [
      "Tests completed on key valid\n",
      "Tests completed on key train\n",
      "Tests completed on key test\n"
     ]
    }
   ],
   "source": [
    "names = data_es.keys()\n",
    "for key in names:\n",
    "    size = len(data_es)\n",
    "    i = 0\n",
    "    while i != size and data_en[key][i][1] == data_es[key][i][1]:\n",
    "        i += 1\n",
    "    if i == size:\n",
    "        print(\"Tests completed on key \" + key)\n",
    "    else:\n",
    "        print(\"Mischeck on key \" + key)"
   ]
  }
 ],
 "metadata": {
  "kernelspec": {
   "display_name": "Python 3",
   "language": "python",
   "name": "python3"
  },
  "language_info": {
   "codemirror_mode": {
    "name": "ipython",
    "version": 3
   },
   "file_extension": ".py",
   "mimetype": "text/x-python",
   "name": "python",
   "nbconvert_exporter": "python",
   "pygments_lexer": "ipython3",
   "version": "3.6.8"
  }
 },
 "nbformat": 4,
 "nbformat_minor": 2
}
