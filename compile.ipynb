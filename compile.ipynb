{
 "cells": [
  {
   "cell_type": "code",
   "execution_count": 1,
   "metadata": {},
   "outputs": [],
   "source": [
    "import pickle\n",
    "import json"
   ]
  },
  {
   "cell_type": "code",
   "execution_count": 2,
   "metadata": {},
   "outputs": [],
   "source": [
    "d = {}\n",
    "for i in range(14):\n",
    "    with open('out' + str(i), 'rb') as f:\n",
    "        t = pickle.load(f)\n",
    "    key = next(iter(t.keys()))\n",
    "    d[key] = d.get(key, []) + t[key]"
   ]
  },
  {
   "cell_type": "code",
   "execution_count": 3,
   "metadata": {},
   "outputs": [],
   "source": [
    "with open('data.json') as f:\n",
    "    data = json.loads(f.read())\n",
    "for key in data.keys():\n",
    "    data[key] = list((item[0], item[1]) for item in data[key])"
   ]
  },
  {
   "cell_type": "code",
   "execution_count": 4,
   "metadata": {},
   "outputs": [],
   "source": [
    "for key in d.keys():\n",
    "    d[key] = list(set(d[key]))"
   ]
  },
  {
   "cell_type": "code",
   "execution_count": 9,
   "metadata": {},
   "outputs": [
    {
     "name": "stdout",
     "output_type": "stream",
     "text": [
      "Key: valid\n",
      "JSON_len: 10845\n",
      "JSON_last: ('billy corgan is credited as the producer on what album', 'www.freebase.com/music/producer/releases_produced')\n",
      "Compiled_len: 10845\n",
      "Compiled_last: ('billy corgan estas kreditita kiel produktanto sur kio albumo', 'www.freebase.com/music/producer/releases_produced')\n",
      "\n",
      "Key: train\n",
      "JSON_len: 75910\n",
      "JSON_last: ('what player played a defender', 'www.freebase.com/soccer/football_position/players')\n",
      "Compiled_len: 75910\n",
      "Compiled_last: ('kio ludanto ludis defendanto', 'www.freebase.com/soccer/football_position/players')\n",
      "\n",
      "Key: test\n",
      "JSON_len: 21687\n",
      "JSON_last: ('what nationality is lucille clifton', 'www.freebase.com/people/person/nationality')\n",
      "Compiled_len: 21687\n",
      "Compiled_last: ('kio nacio estas lucille clifton', 'www.freebase.com/people/person/nationality')\n",
      "\n"
     ]
    }
   ],
   "source": [
    "for key in data.keys():\n",
    "    print('Key: ' + key)\n",
    "    print('JSON_len: ' + str(len(data[key])))\n",
    "    print('JSON_last: ' + str(data[key][-1]))\n",
    "    print('Compiled_len: ' + str(len(d[key])))\n",
    "    print('Compiled_last: ' + str(d[key][-1]))\n",
    "    print()"
   ]
  },
  {
   "cell_type": "code",
   "execution_count": 26,
   "metadata": {},
   "outputs": [],
   "source": [
    "data['train'] = list(set(data['train']))\n",
    "d['train'] = list(set(d['train']))\n",
    "\n",
    "\n",
    "data['train'].sort(key=lambda x: x[1])\n",
    "d['train'].sort(key=lambda x: x[1])"
   ]
  },
  {
   "cell_type": "code",
   "execution_count": 5,
   "metadata": {},
   "outputs": [
    {
     "name": "stdout",
     "output_type": "stream",
     "text": [
      "61887\n"
     ]
    }
   ],
   "source": [
    "i = 0\n",
    "while d['train'][i][1] == data['train'][i][1]:\n",
    "    i += 1\n",
    "print(i)"
   ]
  },
  {
   "cell_type": "code",
   "execution_count": 6,
   "metadata": {},
   "outputs": [
    {
     "name": "stdout",
     "output_type": "stream",
     "text": [
      "61886 61705\n",
      "181\n"
     ]
    }
   ],
   "source": [
    "a, b = len(d['train'])-1, len(data['train'])-1\n",
    "while d['train'][a][1] == data['train'][b][1]:\n",
    "    a -= 1\n",
    "    b -= 1\n",
    "print(a, b)\n",
    "print(a - b)"
   ]
  },
  {
   "cell_type": "code",
   "execution_count": 7,
   "metadata": {},
   "outputs": [],
   "source": [
    "i = 61887\n",
    "flag = True\n",
    "while flag:\n",
    "    if i + 181 != len(d['train']):\n",
    "        d['train'][i] = d['train'][i+181]\n",
    "        i += 1\n",
    "    else:\n",
    "        flag = False"
   ]
  },
  {
   "cell_type": "code",
   "execution_count": 8,
   "metadata": {},
   "outputs": [],
   "source": [
    "d['train'] = d['train'][:len(data['train'])]"
   ]
  },
  {
   "cell_type": "code",
   "execution_count": 10,
   "metadata": {},
   "outputs": [],
   "source": [
    "with open('data_es.json', 'w') as f:\n",
    "    json.dump(d, f)"
   ]
  },
  {
   "cell_type": "code",
   "execution_count": null,
   "metadata": {},
   "outputs": [],
   "source": []
  }
 ],
 "metadata": {
  "kernelspec": {
   "display_name": "Python 3",
   "language": "python",
   "name": "python3"
  },
  "language_info": {
   "codemirror_mode": {
    "name": "ipython",
    "version": 3
   },
   "file_extension": ".py",
   "mimetype": "text/x-python",
   "name": "python",
   "nbconvert_exporter": "python",
   "pygments_lexer": "ipython3",
   "version": "3.6.8"
  }
 },
 "nbformat": 4,
 "nbformat_minor": 2
}
