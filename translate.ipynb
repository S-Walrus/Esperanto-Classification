{
 "cells": [
  {
   "cell_type": "code",
   "execution_count": 1,
   "metadata": {},
   "outputs": [],
   "source": [
    "import json\n",
    "with open('data.json') as f:\n",
    "    data = json.loads(f.read())"
   ]
  },
  {
   "cell_type": "code",
   "execution_count": 2,
   "metadata": {},
   "outputs": [],
   "source": [
    "import requests\n",
    "\n",
    "api = 'trnsl.1.1.20190110T073120Z.5d925ea664c48937.b7fc38c594180f66d35bfb8ab051d1e56038f32a'"
   ]
  },
  {
   "cell_type": "code",
   "execution_count": 4,
   "metadata": {},
   "outputs": [
    {
     "name": "stdout",
     "output_type": "stream",
     "text": [
      "Processed 1 tokens\n",
      "Processed 2 tokens\n",
      "Processed 3 tokens\n",
      "Processed 4 tokens\n",
      "Processed 5 tokens\n",
      "Processed 6 tokens\n",
      "Processed 7 tokens\n",
      "Processed 8 tokens\n",
      "Processed 9 tokens\n",
      "Processed 10 tokens\n",
      "[('kiu estis la trump oceana klubo internacia hotelo kaj tower nomita post', 'www.freebase.com/symbols/namesake/named_after'), ('kie estis sasha vujačić naskita', 'www.freebase.com/people/person/place_of_birth'), ('kio estas regiono kiu mortinta combo estis liberigita en', 'www.freebase.com/music/release/region'), ('kio estas filmo direktita de wiebke von carolsfeld', 'www.freebase.com/film/director/film'), ('kio lando estis muziko por stock exchange liberigita en', 'www.freebase.com/music/release/region'), ('kie estas adler lernejo de profesia psikologio lokita', 'www.freebase.com/location/location/containedby'), ('kie estis john miltern naskita', 'www.freebase.com/people/person/place_of_birth'), ('kiu urbo estas vancouver millionaires de', 'www.freebase.com/sports/sports_team/location'), ('kio estis seymour parker gilbert estas profesio', 'www.freebase.com/people/person/profession'), ('kion faras (12385) 1994 uo orbito', 'www.freebase.com/astronomy/orbital_relationship/orbits')]\n",
      "It took 5.015735387802124 seconds.\n"
     ]
    }
   ],
   "source": [
    "import time\n",
    "\n",
    "start_time = time.time()\n",
    "\n",
    "a = []\n",
    "\n",
    "for i in range(10):\n",
    "    trans = requests.get('https://translate.yandex.net/api/v1.5/tr.json/translate',\n",
    "                        params={'key': api, 'text': data['valid'][i][0], 'lang': 'en-eo', })\n",
    "    if trans.status_code == 200:\n",
    "        a.append((trans.json()['text'][0], data['valid'][i][1]))\n",
    "        print('Processed ' + str(i+1) + ' tokens')\n",
    "    else:\n",
    "        print('Finished with status code ' + trans.status_code)\n",
    "\n",
    "print(a)\n",
    "print('It took ' + str(time.time() - start_time) + ' seconds.')"
   ]
  },
  {
   "cell_type": "code",
   "execution_count": 7,
   "metadata": {},
   "outputs": [
    {
     "name": "stdout",
     "output_type": "stream",
     "text": [
      "\r",
      "Processed 10757 tokens\n"
     ]
    }
   ],
   "source": [
    "import pickle\n",
    "from IPython.display import clear_output\n",
    "\n",
    "name = 'valid'\n",
    "a = {name: []}\n",
    "i = 0\n",
    "n = 0\n",
    "status = True\n",
    "\n",
    "try:\n",
    "    while status:\n",
    "        trans = requests.get('https://translate.yandex.net/api/v1.5/tr.json/translate',\n",
    "                            params={'key': api, 'text': data['valid'][i][0], 'lang': 'en-eo', })\n",
    "        if trans.status_code == 200:\n",
    "            a[name].append((trans.json()['text'][0], data['valid'][i][1]))\n",
    "            clear_output(wait=True)\n",
    "            print('\\rProcessed ' + str(i+1) + ' tokens')\n",
    "        else:\n",
    "            print('Finished with status code ' + trans.status_code)\n",
    "            status = False\n",
    "        i += 1\n",
    "except BaseException:\n",
    "    pass\n",
    "finally:\n",
    "    with open('out' + str(n), 'wb') as f:\n",
    "        pickle.dump(a, f)"
   ]
  },
  {
   "cell_type": "code",
   "execution_count": 5,
   "metadata": {},
   "outputs": [
    {
     "name": "stdout",
     "output_type": "stream",
     "text": [
      "\r",
      "Processed 10845 tokens\n"
     ]
    }
   ],
   "source": [
    "import pickle\n",
    "from IPython.display import clear_output\n",
    "\n",
    "name = 'valid'\n",
    "a = {name: []}\n",
    "i = 10757\n",
    "n = 1\n",
    "status = True\n",
    "\n",
    "try:\n",
    "    while status:\n",
    "        trans = requests.get('https://translate.yandex.net/api/v1.5/tr.json/translate',\n",
    "                            params={'key': api, 'text': data['valid'][i][0], 'lang': 'en-eo', })\n",
    "        if trans.status_code == 200:\n",
    "            a[name].append((trans.json()['text'][0], data['valid'][i][1]))\n",
    "            clear_output(wait=True)\n",
    "            print('\\rProcessed ' + str(i+1) + ' tokens')\n",
    "        else:\n",
    "            print('Finished with status code ' + trans.status_code)\n",
    "            status = False\n",
    "        i += 1\n",
    "except BaseException:\n",
    "    pass\n",
    "finally:\n",
    "    with open('out' + str(n), 'wb') as f:\n",
    "        pickle.dump(a, f)"
   ]
  },
  {
   "cell_type": "code",
   "execution_count": 4,
   "metadata": {},
   "outputs": [
    {
     "name": "stdout",
     "output_type": "stream",
     "text": [
      "\r",
      "Processed 3165 tokens\n"
     ]
    }
   ],
   "source": [
    "import pickle\n",
    "from IPython.display import clear_output\n",
    "\n",
    "name = 'train'\n",
    "a = {name: []}\n",
    "i = 0\n",
    "n = 2\n",
    "status = True\n",
    "\n",
    "try:\n",
    "    while status:\n",
    "        trans = requests.get('https://translate.yandex.net/api/v1.5/tr.json/translate',\n",
    "                            params={'key': api, 'text': data[name][i][0], 'lang': 'en-eo', })\n",
    "        if trans.status_code == 200:\n",
    "            a[name].append((trans.json()['text'][0], data[name][i][1]))\n",
    "            clear_output(wait=True)\n",
    "            print('\\rProcessed ' + str(i+1) + ' tokens')\n",
    "        else:\n",
    "            print('Finished with status code ' + trans.status_code)\n",
    "            status = False\n",
    "        i += 1\n",
    "except BaseException:\n",
    "    pass\n",
    "finally:\n",
    "    with open('out' + str(n), 'wb') as f:\n",
    "        pickle.dump(a, f)"
   ]
  },
  {
   "cell_type": "code",
   "execution_count": 7,
   "metadata": {},
   "outputs": [
    {
     "name": "stdout",
     "output_type": "stream",
     "text": [
      "\r",
      "Processed 4054 tokens\n"
     ]
    }
   ],
   "source": [
    "import pickle\n",
    "from IPython.display import clear_output\n",
    "\n",
    "name = 'train'\n",
    "a = {name: []}\n",
    "i = 3165\n",
    "n = 3\n",
    "status = True\n",
    "\n",
    "try:\n",
    "    while status:\n",
    "        trans = requests.get('https://translate.yandex.net/api/v1.5/tr.json/translate',\n",
    "                            params={'key': api, 'text': data[name][i][0], 'lang': 'en-eo', })\n",
    "        if trans.status_code == 200:\n",
    "            a[name].append((trans.json()['text'][0], data[name][i][1]))\n",
    "            clear_output(wait=True)\n",
    "            print('\\rProcessed ' + str(i+1) + ' tokens')\n",
    "        else:\n",
    "            print('Finished with status code ' + trans.status_code)\n",
    "            status = False\n",
    "        i += 1\n",
    "except BaseException:\n",
    "    pass\n",
    "finally:\n",
    "    with open('out' + str(n), 'wb') as f:\n",
    "        pickle.dump(a, f)"
   ]
  },
  {
   "cell_type": "code",
   "execution_count": 4,
   "metadata": {},
   "outputs": [
    {
     "name": "stdout",
     "output_type": "stream",
     "text": [
      "\r",
      "Processed 8481 tokens\n"
     ]
    }
   ],
   "source": [
    "import pickle\n",
    "from IPython.display import clear_output\n",
    "\n",
    "name = 'train'\n",
    "a = {name: []}\n",
    "i = 4054\n",
    "n = 4\n",
    "status = True\n",
    "\n",
    "try:\n",
    "    while status:\n",
    "        trans = requests.get('https://translate.yandex.net/api/v1.5/tr.json/translate',\n",
    "                            params={'key': api, 'text': data[name][i][0], 'lang': 'en-eo', })\n",
    "        if trans.status_code == 200:\n",
    "            a[name].append((trans.json()['text'][0], data[name][i][1]))\n",
    "            clear_output(wait=True)\n",
    "            print('\\rProcessed ' + str(i+1) + ' tokens')\n",
    "        else:\n",
    "            print('Finished with status code ' + trans.status_code)\n",
    "            status = False\n",
    "        i += 1\n",
    "except BaseException:\n",
    "    pass\n",
    "finally:\n",
    "    with open('out' + str(n), 'wb') as f:\n",
    "        pickle.dump(a, f)"
   ]
  },
  {
   "cell_type": "code",
   "execution_count": 4,
   "metadata": {},
   "outputs": [
    {
     "name": "stdout",
     "output_type": "stream",
     "text": [
      "\r",
      "Processed 10177 tokens\n"
     ]
    }
   ],
   "source": [
    "import pickle\n",
    "from IPython.display import clear_output\n",
    "\n",
    "name = 'train'\n",
    "a = {name: []}\n",
    "i = 8481\n",
    "n = 5\n",
    "status = True\n",
    "\n",
    "try:\n",
    "    while status:\n",
    "        trans = requests.get('https://translate.yandex.net/api/v1.5/tr.json/translate',\n",
    "                            params={'key': api, 'text': data[name][i][0], 'lang': 'en-eo', })\n",
    "        if trans.status_code == 200:\n",
    "            a[name].append((trans.json()['text'][0], data[name][i][1]))\n",
    "            clear_output(wait=True)\n",
    "            print('\\rProcessed ' + str(i+1) + ' tokens')\n",
    "        else:\n",
    "            print('Finished with status code ' + trans.status_code)\n",
    "            status = False\n",
    "        i += 1\n",
    "except BaseException:\n",
    "    pass\n",
    "finally:\n",
    "    with open('out' + str(n), 'wb') as f:\n",
    "        pickle.dump(a, f)"
   ]
  },
  {
   "cell_type": "code",
   "execution_count": 5,
   "metadata": {},
   "outputs": [
    {
     "name": "stdout",
     "output_type": "stream",
     "text": [
      "\r",
      "Processed 12071 tokens\n"
     ]
    }
   ],
   "source": [
    "import pickle\n",
    "from IPython.display import clear_output\n",
    "\n",
    "name = 'train'\n",
    "a = {name: []}\n",
    "i = 10177\n",
    "n = 6\n",
    "status = True\n",
    "\n",
    "try:\n",
    "    while status:\n",
    "        trans = requests.get('https://translate.yandex.net/api/v1.5/tr.json/translate',\n",
    "                            params={'key': api, 'text': data[name][i][0], 'lang': 'en-eo', })\n",
    "        if trans.status_code == 200:\n",
    "            a[name].append((trans.json()['text'][0], data[name][i][1]))\n",
    "            clear_output(wait=True)\n",
    "            print('\\rProcessed ' + str(i+1) + ' tokens')\n",
    "        else:\n",
    "            print('Finished with status code ' + trans.status_code)\n",
    "            status = False\n",
    "        i += 1\n",
    "except BaseException:\n",
    "    pass\n",
    "finally:\n",
    "    with open('out' + str(n), 'wb') as f:\n",
    "        pickle.dump(a, f)"
   ]
  },
  {
   "cell_type": "code",
   "execution_count": 4,
   "metadata": {},
   "outputs": [
    {
     "name": "stdout",
     "output_type": "stream",
     "text": [
      "\r",
      "Processed 14428 tokens\n"
     ]
    }
   ],
   "source": [
    "import pickle\n",
    "from IPython.display import clear_output\n",
    "\n",
    "name = 'train'\n",
    "a = {name: []}\n",
    "i = 12071\n",
    "n = 7\n",
    "status = True\n",
    "\n",
    "try:\n",
    "    while status:\n",
    "        trans = requests.get('https://translate.yandex.net/api/v1.5/tr.json/translate',\n",
    "                            params={'key': api, 'text': data[name][i][0], 'lang': 'en-eo', })\n",
    "        if trans.status_code == 200:\n",
    "            a[name].append((trans.json()['text'][0], data[name][i][1]))\n",
    "            clear_output(wait=True)\n",
    "            print('\\rProcessed ' + str(i+1) + ' tokens')\n",
    "        else:\n",
    "            print('Finished with status code ' + trans.status_code)\n",
    "            status = False\n",
    "        i += 1\n",
    "except BaseException:\n",
    "    pass\n",
    "finally:\n",
    "    with open('out' + str(n), 'wb') as f:\n",
    "        pickle.dump(a, f) "
   ]
  },
  {
   "cell_type": "code",
   "execution_count": 5,
   "metadata": {},
   "outputs": [
    {
     "name": "stdout",
     "output_type": "stream",
     "text": [
      "\r",
      "Processed 36542 tokens\n"
     ]
    }
   ],
   "source": [
    "import pickle\n",
    "from IPython.display import clear_output\n",
    "\n",
    "name = 'train'\n",
    "a = {name: []}\n",
    "i = 14428\n",
    "n = 8\n",
    "status = True\n",
    "\n",
    "try:\n",
    "    while status:\n",
    "        trans = requests.get('https://translate.yandex.net/api/v1.5/tr.json/translate',\n",
    "                            params={'key': api, 'text': data[name][i][0], 'lang': 'en-eo', })\n",
    "        if trans.status_code == 200:\n",
    "            a[name].append((trans.json()['text'][0], data[name][i][1]))\n",
    "            clear_output(wait=True)\n",
    "            print('\\rProcessed ' + str(i+1) + ' tokens')\n",
    "        else:\n",
    "            print('Finished with status code ' + trans.status_code)\n",
    "            status = False\n",
    "        i += 1\n",
    "except BaseException:\n",
    "    pass\n",
    "finally:\n",
    "    with open('out' + str(n), 'wb') as f:\n",
    "        pickle.dump(a, f) "
   ]
  },
  {
   "cell_type": "code",
   "execution_count": 4,
   "metadata": {},
   "outputs": [
    {
     "name": "stdout",
     "output_type": "stream",
     "text": [
      "\r",
      "Processed 40180 tokens\n"
     ]
    }
   ],
   "source": [
    "import pickle\n",
    "from IPython.display import clear_output\n",
    "\n",
    "name = 'train'\n",
    "a = {name: []}\n",
    "i = 36542\n",
    "n = 9\n",
    "status = True\n",
    "\n",
    "try:\n",
    "    while status:\n",
    "        trans = requests.get('https://translate.yandex.net/api/v1.5/tr.json/translate',\n",
    "                            params={'key': api, 'text': data[name][i][0], 'lang': 'en-eo', })\n",
    "        if trans.status_code == 200:\n",
    "            a[name].append((trans.json()['text'][0], data[name][i][1]))\n",
    "            clear_output(wait=True)\n",
    "            print('\\rProcessed ' + str(i+1) + ' tokens')\n",
    "        else:\n",
    "            print('Finished with status code ' + trans.status_code)\n",
    "            status = False\n",
    "        i += 1\n",
    "except BaseException:\n",
    "    pass\n",
    "finally:\n",
    "    with open('out' + str(n), 'wb') as f:\n",
    "        pickle.dump(a, f) "
   ]
  },
  {
   "cell_type": "code",
   "execution_count": null,
   "metadata": {},
   "outputs": [
    {
     "name": "stdout",
     "output_type": "stream",
     "text": [
      "\r",
      "Processed 61706 tokens\n"
     ]
    }
   ],
   "source": [
    "import pickle\n",
    "from IPython.display import clear_output\n",
    "\n",
    "name = 'train'\n",
    "a = {name: []}\n",
    "i = 40180\n",
    "n = 10\n",
    "status = True\n",
    "\n",
    "try:\n",
    "    while status:\n",
    "        trans = requests.get('https://translate.yandex.net/api/v1.5/tr.json/translate',\n",
    "                            params={'key': api, 'text': data[name][i][0], 'lang': 'en-eo', })\n",
    "        if trans.status_code == 200:\n",
    "            a[name].append((trans.json()['text'][0], data[name][i][1]))\n",
    "            clear_output(wait=True)\n",
    "            print('\\rProcessed ' + str(i+1) + ' tokens')\n",
    "        else:\n",
    "            print('Finished with status code ' + trans.status_code)\n",
    "            status = False\n",
    "        i += 1\n",
    "except BaseException:\n",
    "    pass\n",
    "finally:\n",
    "    with open('out' + str(n), 'wb') as f:\n",
    "        pickle.dump(a, f) "
   ]
  },
  {
   "cell_type": "code",
   "execution_count": 5,
   "metadata": {},
   "outputs": [
    {
     "name": "stdout",
     "output_type": "stream",
     "text": [
      "\r",
      "Processed 75910 tokens\n"
     ]
    }
   ],
   "source": [
    "import pickle\n",
    "from IPython.display import clear_output\n",
    "\n",
    "name = 'train'\n",
    "a = {name: []}\n",
    "i = 61706\n",
    "n = 11\n",
    "status = True\n",
    "\n",
    "try:\n",
    "    while status:\n",
    "        trans = requests.get('https://translate.yandex.net/api/v1.5/tr.json/translate',\n",
    "                            params={'key': api, 'text': data[name][i][0], 'lang': 'en-eo', })\n",
    "        if trans.status_code == 200:\n",
    "            a[name].append((trans.json()['text'][0], data[name][i][1]))\n",
    "            clear_output(wait=True)\n",
    "            print('\\rProcessed ' + str(i+1) + ' tokens')\n",
    "        else:\n",
    "            print('Finished with status code ' + trans.status_code)\n",
    "            status = False\n",
    "        i += 1\n",
    "except BaseException:\n",
    "    pass\n",
    "finally:\n",
    "    with open('out' + str(n), 'wb') as f:\n",
    "        pickle.dump(a, f) "
   ]
  },
  {
   "cell_type": "code",
   "execution_count": 8,
   "metadata": {},
   "outputs": [
    {
     "name": "stdout",
     "output_type": "stream",
     "text": [
      "\r",
      "Processed 8633 tokens\n"
     ]
    }
   ],
   "source": [
    "import pickle\n",
    "from IPython.display import clear_output\n",
    "\n",
    "name = 'test'\n",
    "a = {name: []}\n",
    "i = 0\n",
    "n = 12\n",
    "status = True\n",
    "\n",
    "try:\n",
    "    while status:\n",
    "        trans = requests.get('https://translate.yandex.net/api/v1.5/tr.json/translate',\n",
    "                            params={'key': api, 'text': data[name][i][0], 'lang': 'en-eo', })\n",
    "        if trans.status_code == 200:\n",
    "            a[name].append((trans.json()['text'][0], data[name][i][1]))\n",
    "            clear_output(wait=True)\n",
    "            print('\\rProcessed ' + str(i+1) + ' tokens')\n",
    "        else:\n",
    "            print('Finished with status code ' + trans.status_code)\n",
    "            status = False\n",
    "        i += 1\n",
    "except BaseException:\n",
    "    pass\n",
    "finally:\n",
    "    with open('out' + str(n), 'wb') as f:\n",
    "        pickle.dump(a, f) "
   ]
  },
  {
   "cell_type": "code",
   "execution_count": 4,
   "metadata": {},
   "outputs": [
    {
     "name": "stdout",
     "output_type": "stream",
     "text": [
      "\r",
      "Processed 21687 tokens\n"
     ]
    }
   ],
   "source": [
    "import pickle\n",
    "from IPython.display import clear_output\n",
    "\n",
    "name = 'test'\n",
    "a = {name: []}\n",
    "i = 8633\n",
    "n = 13\n",
    "status = True\n",
    "\n",
    "try:\n",
    "    while status:\n",
    "        trans = requests.get('https://translate.yandex.net/api/v1.5/tr.json/translate',\n",
    "                            params={'key': api, 'text': data[name][i][0], 'lang': 'en-eo', })\n",
    "        if trans.status_code == 200:\n",
    "            a[name].append((trans.json()['text'][0], data[name][i][1]))\n",
    "            clear_output(wait=True)\n",
    "            print('\\rProcessed ' + str(i+1) + ' tokens')\n",
    "        else:\n",
    "            print('Finished with status code ' + trans.status_code)\n",
    "            status = False\n",
    "        i += 1\n",
    "except BaseException:\n",
    "    pass\n",
    "finally:\n",
    "    with open('out' + str(n), 'wb') as f:\n",
    "        pickle.dump(a, f) "
   ]
  }
 ],
 "metadata": {
  "kernelspec": {
   "display_name": "Python 3",
   "language": "python",
   "name": "python3"
  },
  "language_info": {
   "codemirror_mode": {
    "name": "ipython",
    "version": 3
   },
   "file_extension": ".py",
   "mimetype": "text/x-python",
   "name": "python",
   "nbconvert_exporter": "python",
   "pygments_lexer": "ipython3",
   "version": "3.6.8"
  }
 },
 "nbformat": 4,
 "nbformat_minor": 2
}
